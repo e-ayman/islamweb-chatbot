{
  "nbformat": 4,
  "nbformat_minor": 0,
  "metadata": {
    "colab": {
      "provenance": []
    },
    "kernelspec": {
      "name": "python3",
      "display_name": "Python 3"
    },
    "language_info": {
      "name": "python"
    }
  },
  "cells": [
    {
      "cell_type": "code",
      "source": [
        "pip install pandas requests beautifulsoup4 lxml\n"
      ],
      "metadata": {
        "colab": {
          "base_uri": "https://localhost:8080/"
        },
        "id": "hxL4Th2eECIO",
        "outputId": "d21b4563-2b0f-4bf0-dbde-fe7dbd1b3018"
      },
      "execution_count": null,
      "outputs": [
        {
          "output_type": "stream",
          "name": "stdout",
          "text": [
            "Requirement already satisfied: requests in /usr/local/lib/python3.11/dist-packages (2.32.3)\n",
            "Requirement already satisfied: beautifulsoup4 in /usr/local/lib/python3.11/dist-packages (4.13.4)\n",
            "Requirement already satisfied: charset-normalizer<4,>=2 in /usr/local/lib/python3.11/dist-packages (from requests) (3.4.1)\n",
            "Requirement already satisfied: idna<4,>=2.5 in /usr/local/lib/python3.11/dist-packages (from requests) (3.10)\n",
            "Requirement already satisfied: urllib3<3,>=1.21.1 in /usr/local/lib/python3.11/dist-packages (from requests) (2.4.0)\n",
            "Requirement already satisfied: certifi>=2017.4.17 in /usr/local/lib/python3.11/dist-packages (from requests) (2025.1.31)\n",
            "Requirement already satisfied: soupsieve>1.2 in /usr/local/lib/python3.11/dist-packages (from beautifulsoup4) (2.7)\n",
            "Requirement already satisfied: typing-extensions>=4.0.0 in /usr/local/lib/python3.11/dist-packages (from beautifulsoup4) (4.13.2)\n"
          ]
        }
      ]
    },
    {
      "cell_type": "code",
      "execution_count": null,
      "metadata": {
        "colab": {
          "base_uri": "https://localhost:8080/"
        },
        "id": "-CnUk2TcEABl",
        "outputId": "eaa01d42-717f-4038-c50d-451b64ab848e"
      },
      "outputs": [
        {
          "output_type": "stream",
          "name": "stdout",
          "text": [
            "{'fatwa title': ['\\nحكم الشك في عدد أشواط السعي بعد الفراغ منه\\n', '\\nحدود التراخي المسموح به في أداء كفارة اليمين\\n', '\\nحكم أخذ الكتب والمقتنيات المهملة دون إذن أصحابها\\n', '\\nحكم أخذ الولد من تخفيض الرسوم الجامعية دون علم أبيه\\n', '\\nالعبرة في وفاء الديون بالمثل لا بالقيمة\\n', '\\nمتى يبتدئ المسافر قصر الصلاة\\n', '\\nلزوم تصرف الموظف بلوائح الشركة\\n', '\\nشروط رد السلعة للبائع\\n', '\\nأجبرها أهلها على الزواج من شخص تكرهه، وقلبها مملوء بالغيظ عليهم\\n', '\\nحكم اشتراط المقرئ على من يريد التلقي عنه أن يُعلِّم القرآن \\n', '\\nمسوغات طلب المرأة الخلع\\n', '\\nحكم طلب مال نظير التبليغ عن السارق\\n', '\\nخروج الإفرازات من المرأة تنقض الوضوء\\n', '\\nسبب اختلاف الراويين عن شيخهم الذي تلقوا عنه القراءة\\n', '\\nحكم من شكت بظهور جزء من ساقها في الصلاة\\n', '\\nحكم دفع الرسوم على الأدوار القريبة للجمعيات الإلكترونية\\n', '\\nالمسؤول عن تعليم الصبي الصلاة\\n', '\\nزكاة القاصر، وكيفية إخراجها في حال منع الولي من أدائها\\n'], 'fatwa link': ['https://www.islamweb.net/ar/fatwa/511756/حكم-الشك-في-عدد-أشواط-السعي-بعد-الفراغ-منه', 'https://www.islamweb.net/ar/fatwa/511888/حدود-التراخي-المسموح-به-في-أداء-كفارة-اليمين', 'https://www.islamweb.net/ar/fatwa/511795/حكم-أخذ-الكتب-والمقتنيات-المهملة-دون-إذن-أصحابها', 'https://www.islamweb.net/ar/fatwa/511792/حكم-أخذ-الولد-من-تخفيض-الرسوم-الجامعية-دون-علم-أبيه', 'https://www.islamweb.net/ar/fatwa/99163/العبرة-في-وفاء-الديون-بالمثل-لا-بالقيمة', 'https://www.islamweb.net/ar/fatwa/486001/متى-يبتدئ-المسافر-قصر-الصلاة', 'https://www.islamweb.net/ar/fatwa/512407/لزوم-تصرف-الموظف-بلوائح-الشركة', 'https://www.islamweb.net/ar/fatwa/512404/شروط-رد-السلعة-للبائع', 'https://www.islamweb.net/ar/fatwa/512398/أجبرها-أهلها-على-الزواج-من-شخص-تكرهه-وقلبها-مملوء-بالغيظ-عليهم', 'https://www.islamweb.net/ar/fatwa/512386/حكم-اشتراط-المقرئ-على-من-يريد-التلقي-عنه-أن-يُعلِّم-القرآن', 'https://www.islamweb.net/ar/fatwa/512377/مسوغات-طلب-المرأة-الخلع', 'https://www.islamweb.net/ar/fatwa/512365/حكم-طلب-مال-نظير-التبليغ-عن-السارق', 'https://www.islamweb.net/ar/fatwa/512362/خروج-الإفرازات-من-المرأة-تنقض-الوضوء', 'https://www.islamweb.net/ar/fatwa/512359/سبب-اختلاف-الراويين-عن-شيخهم-الذي-تلقوا-عنه-القراءة', 'https://www.islamweb.net/ar/fatwa/512356/حكم-من-شكت-بظهور-جزء-من-ساقها-في-الصلاة', 'https://www.islamweb.net/ar/fatwa/512338/حكم-دفع-الرسوم-على-الأدوار-القريبة-للجمعيات-الإلكترونية', 'https://www.islamweb.net/ar/fatwa/512335/المسؤول-عن-تعليم-الصبي-الصلاة', 'https://www.islamweb.net/ar/fatwa/512326/زكاة-القاصر-وكيفية-إخراجها-في-حال-منع-الولي-من-أدائها'], 'question': [], 'answer': []}\n"
          ]
        }
      ],
      "source": [
        "import requests\n",
        "from bs4 import BeautifulSoup\n",
        "\n",
        "# Send an HTTP request to get the URL\n",
        "page = requests.get(\"https://www.islamweb.net/ar/fatwa/\")\n",
        "\n",
        "# parse the HTML page\n",
        "soup = BeautifulSoup(page.content, \"lxml\")\n",
        "\n",
        "# get the fatwas divs\n",
        "fatwas = soup.find_all(\"div\", {'class':'top-item'})\n",
        "\n",
        "fatwaDict = {\n",
        "    \"fatwa title\": [],\n",
        "    \"fatwa link\": [],\n",
        "    \"question\":[],\n",
        "    \"answer\":[]\n",
        "}\n",
        "\n",
        "for i in range(len(fatwas)):\n",
        "  # store fatwa title and link\n",
        "  fatwa_title = fatwas[i].find('h2').text\n",
        "  fatwa_link = fatwas[i].find('a').get('href')\n",
        "\n",
        "  fatwaDict[\"fatwa title\"].append(fatwa_title)\n",
        "  fatwaDict['fatwa link'].append(f'https://www.islamweb.net{fatwa_link}')\n",
        "\n",
        "# print(len(Fatwas))\n",
        "print(fatwaDict)"
      ]
    },
    {
      "cell_type": "code",
      "source": [
        "for i in range(len(fatwas)):\n",
        "\n",
        "  fpage = requests.get(fatwaDict['fatwa link'][i])\n",
        "  fsoup = BeautifulSoup(fpage.content, 'lxml').find_all('div' , {'class' : 'mainitem quest-fatwa'})\n",
        "\n",
        "  question = fsoup[0].find_all('p')\n",
        "  answer = fsoup[1].find_all('p')\n",
        "\n",
        "\n",
        "  # Store the text from all <p> elements in a single variable\n",
        "  question_text = ''.join([p.get_text() for p in question])\n",
        "  ans_text = ''.join([p.get_text() for p in answer])\n",
        "\n",
        "  fatwaDict['question'].append(question_text)\n",
        "  fatwaDict['answer'].append(ans_text)"
      ],
      "metadata": {
        "id": "eya7qHIMDfao"
      },
      "execution_count": null,
      "outputs": []
    },
    {
      "cell_type": "code",
      "source": [
        "print(len(fatwaDict['answer']))"
      ],
      "metadata": {
        "colab": {
          "base_uri": "https://localhost:8080/"
        },
        "id": "-LMfpfK_XX62",
        "outputId": "c6197cb3-020e-4762-91c5-ae578a39a52a"
      },
      "execution_count": null,
      "outputs": [
        {
          "output_type": "stream",
          "name": "stdout",
          "text": [
            "18\n"
          ]
        }
      ]
    },
    {
      "cell_type": "code",
      "source": [
        "import pandas as pd\n",
        "\n",
        "# Convert fatwaDict to a DataFrame\n",
        "df = pd.DataFrame(fatwaDict)\n",
        "\n",
        "# Save the DataFrame to a CSV file\n",
        "df.to_csv(\"fatwa_data.csv\", index=False, encoding='utf-8')"
      ],
      "metadata": {
        "id": "-yaweoTMbh-c"
      },
      "execution_count": null,
      "outputs": []
    }
  ]
}